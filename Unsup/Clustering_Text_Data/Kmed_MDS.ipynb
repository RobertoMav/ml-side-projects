{
  "cells": [
    {
      "cell_type": "markdown",
      "metadata": {
        "id": "RBubMHPeqCvs"
      },
      "source": [
        "# Aluno: Roberto Martins"
      ]
    },
    {
      "cell_type": "code",
      "execution_count": 2,
      "metadata": {
        "colab": {
          "base_uri": "https://localhost:8080/"
        },
        "id": "nQFMj9cpQyV4",
        "outputId": "57048f79-bd79-4afa-c9c8-4fb256f7753f"
      },
      "outputs": [
        {
          "name": "stdout",
          "output_type": "stream",
          "text": [
            "Requirement already satisfied: scikit-learn-extra in /Users/rmartin0/miniconda3/envs/agile/lib/python3.11/site-packages (0.3.0)\n",
            "Requirement already satisfied: numpy>=1.13.3 in /Users/rmartin0/miniconda3/envs/agile/lib/python3.11/site-packages (from scikit-learn-extra) (1.24.3)\n",
            "Requirement already satisfied: scipy>=0.19.1 in /Users/rmartin0/miniconda3/envs/agile/lib/python3.11/site-packages (from scikit-learn-extra) (1.11.4)\n",
            "Requirement already satisfied: scikit-learn>=0.23.0 in /Users/rmartin0/miniconda3/envs/agile/lib/python3.11/site-packages (from scikit-learn-extra) (1.3.0)\n",
            "Requirement already satisfied: joblib>=1.1.1 in /Users/rmartin0/miniconda3/envs/agile/lib/python3.11/site-packages (from scikit-learn>=0.23.0->scikit-learn-extra) (1.2.0)\n",
            "Requirement already satisfied: threadpoolctl>=2.0.0 in /Users/rmartin0/miniconda3/envs/agile/lib/python3.11/site-packages (from scikit-learn>=0.23.0->scikit-learn-extra) (3.3.0)\n"
          ]
        }
      ],
      "source": [
        "!pip install scikit-learn-extra"
      ]
    },
    {
      "cell_type": "code",
      "execution_count": 3,
      "metadata": {
        "id": "9V3uR56VPIUp"
      },
      "outputs": [],
      "source": [
        "from sklearn_extra.cluster import KMedoids\n",
        "import pandas as pd\n",
        "import numpy as np\n",
        "import matplotlib.pyplot as plt\n",
        "from sklearn.metrics.pairwise import pairwise_distances\n",
        "%matplotlib inline"
      ]
    },
    {
      "cell_type": "markdown",
      "metadata": {
        "id": "k1sQihvwrXZ-"
      },
      "source": [
        "## Load and Prepare Data"
      ]
    },
    {
      "cell_type": "code",
      "execution_count": 4,
      "metadata": {
        "colab": {
          "base_uri": "https://localhost:8080/",
          "height": 425
        },
        "collapsed": true,
        "id": "uCOUoWBlrXZ-",
        "outputId": "e27312c7-8407-4602-c42d-2baa281e5324"
      },
      "outputs": [
        {
          "data": {
            "text/html": [
              "<div>\n",
              "<style scoped>\n",
              "    .dataframe tbody tr th:only-of-type {\n",
              "        vertical-align: middle;\n",
              "    }\n",
              "\n",
              "    .dataframe tbody tr th {\n",
              "        vertical-align: top;\n",
              "    }\n",
              "\n",
              "    .dataframe thead th {\n",
              "        text-align: right;\n",
              "    }\n",
              "</style>\n",
              "<table border=\"1\" class=\"dataframe\">\n",
              "  <thead>\n",
              "    <tr style=\"text-align: right;\">\n",
              "      <th></th>\n",
              "      <th>BEL</th>\n",
              "      <th>BRA</th>\n",
              "      <th>CHI</th>\n",
              "      <th>CUB</th>\n",
              "      <th>EGY</th>\n",
              "      <th>FRA</th>\n",
              "      <th>IND</th>\n",
              "      <th>ISR</th>\n",
              "      <th>USA</th>\n",
              "      <th>USS</th>\n",
              "      <th>YUG</th>\n",
              "      <th>ZAI</th>\n",
              "    </tr>\n",
              "  </thead>\n",
              "  <tbody>\n",
              "    <tr>\n",
              "      <th>0</th>\n",
              "      <td>0.00</td>\n",
              "      <td>5.58</td>\n",
              "      <td>7.00</td>\n",
              "      <td>7.08</td>\n",
              "      <td>4.83</td>\n",
              "      <td>2.17</td>\n",
              "      <td>6.42</td>\n",
              "      <td>3.42</td>\n",
              "      <td>2.50</td>\n",
              "      <td>6.08</td>\n",
              "      <td>5.25</td>\n",
              "      <td>4.75</td>\n",
              "    </tr>\n",
              "    <tr>\n",
              "      <th>1</th>\n",
              "      <td>5.58</td>\n",
              "      <td>0.00</td>\n",
              "      <td>6.50</td>\n",
              "      <td>7.00</td>\n",
              "      <td>5.08</td>\n",
              "      <td>5.75</td>\n",
              "      <td>5.00</td>\n",
              "      <td>5.50</td>\n",
              "      <td>4.92</td>\n",
              "      <td>6.67</td>\n",
              "      <td>6.83</td>\n",
              "      <td>3.00</td>\n",
              "    </tr>\n",
              "    <tr>\n",
              "      <th>2</th>\n",
              "      <td>7.00</td>\n",
              "      <td>6.50</td>\n",
              "      <td>0.00</td>\n",
              "      <td>3.83</td>\n",
              "      <td>8.17</td>\n",
              "      <td>6.67</td>\n",
              "      <td>5.58</td>\n",
              "      <td>6.42</td>\n",
              "      <td>6.25</td>\n",
              "      <td>4.25</td>\n",
              "      <td>4.50</td>\n",
              "      <td>6.08</td>\n",
              "    </tr>\n",
              "    <tr>\n",
              "      <th>3</th>\n",
              "      <td>7.08</td>\n",
              "      <td>7.00</td>\n",
              "      <td>3.83</td>\n",
              "      <td>0.00</td>\n",
              "      <td>5.83</td>\n",
              "      <td>6.92</td>\n",
              "      <td>6.00</td>\n",
              "      <td>6.42</td>\n",
              "      <td>7.33</td>\n",
              "      <td>2.67</td>\n",
              "      <td>3.75</td>\n",
              "      <td>6.67</td>\n",
              "    </tr>\n",
              "    <tr>\n",
              "      <th>4</th>\n",
              "      <td>4.83</td>\n",
              "      <td>5.08</td>\n",
              "      <td>8.17</td>\n",
              "      <td>5.83</td>\n",
              "      <td>0.00</td>\n",
              "      <td>4.92</td>\n",
              "      <td>4.67</td>\n",
              "      <td>5.00</td>\n",
              "      <td>4.50</td>\n",
              "      <td>6.00</td>\n",
              "      <td>5.75</td>\n",
              "      <td>5.00</td>\n",
              "    </tr>\n",
              "    <tr>\n",
              "      <th>5</th>\n",
              "      <td>2.17</td>\n",
              "      <td>5.75</td>\n",
              "      <td>6.67</td>\n",
              "      <td>6.92</td>\n",
              "      <td>4.92</td>\n",
              "      <td>0.00</td>\n",
              "      <td>6.42</td>\n",
              "      <td>3.92</td>\n",
              "      <td>2.25</td>\n",
              "      <td>6.17</td>\n",
              "      <td>6.08</td>\n",
              "      <td>4.83</td>\n",
              "    </tr>\n",
              "    <tr>\n",
              "      <th>6</th>\n",
              "      <td>6.42</td>\n",
              "      <td>5.00</td>\n",
              "      <td>5.58</td>\n",
              "      <td>6.00</td>\n",
              "      <td>4.67</td>\n",
              "      <td>6.42</td>\n",
              "      <td>0.00</td>\n",
              "      <td>6.17</td>\n",
              "      <td>6.33</td>\n",
              "      <td>6.17</td>\n",
              "      <td>6.08</td>\n",
              "      <td>4.83</td>\n",
              "    </tr>\n",
              "    <tr>\n",
              "      <th>7</th>\n",
              "      <td>3.42</td>\n",
              "      <td>5.50</td>\n",
              "      <td>6.42</td>\n",
              "      <td>6.42</td>\n",
              "      <td>5.00</td>\n",
              "      <td>3.92</td>\n",
              "      <td>6.17</td>\n",
              "      <td>0.00</td>\n",
              "      <td>2.75</td>\n",
              "      <td>6.92</td>\n",
              "      <td>5.83</td>\n",
              "      <td>6.17</td>\n",
              "    </tr>\n",
              "    <tr>\n",
              "      <th>8</th>\n",
              "      <td>2.50</td>\n",
              "      <td>4.92</td>\n",
              "      <td>6.25</td>\n",
              "      <td>7.33</td>\n",
              "      <td>4.50</td>\n",
              "      <td>2.25</td>\n",
              "      <td>6.33</td>\n",
              "      <td>2.75</td>\n",
              "      <td>0.00</td>\n",
              "      <td>6.17</td>\n",
              "      <td>6.67</td>\n",
              "      <td>5.67</td>\n",
              "    </tr>\n",
              "    <tr>\n",
              "      <th>9</th>\n",
              "      <td>6.08</td>\n",
              "      <td>6.67</td>\n",
              "      <td>4.25</td>\n",
              "      <td>2.67</td>\n",
              "      <td>6.00</td>\n",
              "      <td>6.17</td>\n",
              "      <td>6.17</td>\n",
              "      <td>6.92</td>\n",
              "      <td>6.17</td>\n",
              "      <td>0.00</td>\n",
              "      <td>3.67</td>\n",
              "      <td>6.50</td>\n",
              "    </tr>\n",
              "    <tr>\n",
              "      <th>10</th>\n",
              "      <td>5.25</td>\n",
              "      <td>6.83</td>\n",
              "      <td>4.50</td>\n",
              "      <td>3.75</td>\n",
              "      <td>5.75</td>\n",
              "      <td>6.08</td>\n",
              "      <td>6.08</td>\n",
              "      <td>5.83</td>\n",
              "      <td>6.67</td>\n",
              "      <td>3.67</td>\n",
              "      <td>0.00</td>\n",
              "      <td>6.92</td>\n",
              "    </tr>\n",
              "    <tr>\n",
              "      <th>11</th>\n",
              "      <td>4.75</td>\n",
              "      <td>3.00</td>\n",
              "      <td>6.08</td>\n",
              "      <td>6.67</td>\n",
              "      <td>5.00</td>\n",
              "      <td>4.83</td>\n",
              "      <td>4.83</td>\n",
              "      <td>6.17</td>\n",
              "      <td>5.67</td>\n",
              "      <td>6.50</td>\n",
              "      <td>6.92</td>\n",
              "      <td>0.00</td>\n",
              "    </tr>\n",
              "  </tbody>\n",
              "</table>\n",
              "</div>"
            ],
            "text/plain": [
              "     BEL   BRA   CHI   CUB   EGY   FRA   IND   ISR   USA   USS   YUG   ZAI\n",
              "0   0.00  5.58  7.00  7.08  4.83  2.17  6.42  3.42  2.50  6.08  5.25  4.75\n",
              "1   5.58  0.00  6.50  7.00  5.08  5.75  5.00  5.50  4.92  6.67  6.83  3.00\n",
              "2   7.00  6.50  0.00  3.83  8.17  6.67  5.58  6.42  6.25  4.25  4.50  6.08\n",
              "3   7.08  7.00  3.83  0.00  5.83  6.92  6.00  6.42  7.33  2.67  3.75  6.67\n",
              "4   4.83  5.08  8.17  5.83  0.00  4.92  4.67  5.00  4.50  6.00  5.75  5.00\n",
              "5   2.17  5.75  6.67  6.92  4.92  0.00  6.42  3.92  2.25  6.17  6.08  4.83\n",
              "6   6.42  5.00  5.58  6.00  4.67  6.42  0.00  6.17  6.33  6.17  6.08  4.83\n",
              "7   3.42  5.50  6.42  6.42  5.00  3.92  6.17  0.00  2.75  6.92  5.83  6.17\n",
              "8   2.50  4.92  6.25  7.33  4.50  2.25  6.33  2.75  0.00  6.17  6.67  5.67\n",
              "9   6.08  6.67  4.25  2.67  6.00  6.17  6.17  6.92  6.17  0.00  3.67  6.50\n",
              "10  5.25  6.83  4.50  3.75  5.75  6.08  6.08  5.83  6.67  3.67  0.00  6.92\n",
              "11  4.75  3.00  6.08  6.67  5.00  4.83  4.83  6.17  5.67  6.50  6.92  0.00"
            ]
          },
          "execution_count": 4,
          "metadata": {},
          "output_type": "execute_result"
        }
      ],
      "source": [
        "data = pd.read_csv(\"/Users/rmartin0/Downloads/dist.countries.csv\", sep=';')\n",
        "data"
      ]
    },
    {
      "cell_type": "markdown",
      "metadata": {
        "id": "AdtQxL0PqWBf"
      },
      "source": [
        "Criando uma matriz de distâncias pré-computadas."
      ]
    },
    {
      "cell_type": "code",
      "execution_count": 5,
      "metadata": {
        "id": "M3Iv19SnRDAF"
      },
      "outputs": [],
      "source": [
        "D = pairwise_distances(data, metric='precomputed')"
      ]
    },
    {
      "cell_type": "code",
      "execution_count": 6,
      "metadata": {
        "colab": {
          "base_uri": "https://localhost:8080/"
        },
        "id": "UTsEHsnAaobr",
        "outputId": "eed67c37-73c3-4609-beba-423cd54ff62c"
      },
      "outputs": [
        {
          "data": {
            "text/plain": [
              "array([[0.  , 5.58, 7.  , 7.08, 4.83, 2.17, 6.42, 3.42, 2.5 , 6.08, 5.25,\n",
              "        4.75],\n",
              "       [5.58, 0.  , 6.5 , 7.  , 5.08, 5.75, 5.  , 5.5 , 4.92, 6.67, 6.83,\n",
              "        3.  ],\n",
              "       [7.  , 6.5 , 0.  , 3.83, 8.17, 6.67, 5.58, 6.42, 6.25, 4.25, 4.5 ,\n",
              "        6.08],\n",
              "       [7.08, 7.  , 3.83, 0.  , 5.83, 6.92, 6.  , 6.42, 7.33, 2.67, 3.75,\n",
              "        6.67],\n",
              "       [4.83, 5.08, 8.17, 5.83, 0.  , 4.92, 4.67, 5.  , 4.5 , 6.  , 5.75,\n",
              "        5.  ],\n",
              "       [2.17, 5.75, 6.67, 6.92, 4.92, 0.  , 6.42, 3.92, 2.25, 6.17, 6.08,\n",
              "        4.83],\n",
              "       [6.42, 5.  , 5.58, 6.  , 4.67, 6.42, 0.  , 6.17, 6.33, 6.17, 6.08,\n",
              "        4.83],\n",
              "       [3.42, 5.5 , 6.42, 6.42, 5.  , 3.92, 6.17, 0.  , 2.75, 6.92, 5.83,\n",
              "        6.17],\n",
              "       [2.5 , 4.92, 6.25, 7.33, 4.5 , 2.25, 6.33, 2.75, 0.  , 6.17, 6.67,\n",
              "        5.67],\n",
              "       [6.08, 6.67, 4.25, 2.67, 6.  , 6.17, 6.17, 6.92, 6.17, 0.  , 3.67,\n",
              "        6.5 ],\n",
              "       [5.25, 6.83, 4.5 , 3.75, 5.75, 6.08, 6.08, 5.83, 6.67, 3.67, 0.  ,\n",
              "        6.92],\n",
              "       [4.75, 3.  , 6.08, 6.67, 5.  , 4.83, 4.83, 6.17, 5.67, 6.5 , 6.92,\n",
              "        0.  ]])"
            ]
          },
          "execution_count": 6,
          "metadata": {},
          "output_type": "execute_result"
        }
      ],
      "source": [
        "D"
      ]
    },
    {
      "cell_type": "markdown",
      "metadata": {
        "id": "ErgmyuB4qan9"
      },
      "source": [
        "Chamando a função K-medoids com a função de distância pré-computada."
      ]
    },
    {
      "cell_type": "code",
      "execution_count": 7,
      "metadata": {
        "colab": {
          "base_uri": "https://localhost:8080/"
        },
        "id": "zGAdjSXon9fI",
        "outputId": "4ca80938-ce21-4897-ca63-da24b4d191d9"
      },
      "outputs": [
        {
          "data": {
            "text/plain": [
              "array([1, 2, 0, 0, 1, 1, 2, 1, 1, 0, 0, 2])"
            ]
          },
          "execution_count": 7,
          "metadata": {},
          "output_type": "execute_result"
        }
      ],
      "source": [
        "kmedoids = KMedoids(n_clusters=3, metric='precomputed', method='pam', init='random',  random_state=123).fit(D)\n",
        "kmedoids.labels_"
      ]
    },
    {
      "cell_type": "markdown",
      "metadata": {
        "id": "ThIkxi6EqjLy"
      },
      "source": [
        "Combinamos os clusters e os rótulos dos países."
      ]
    },
    {
      "cell_type": "code",
      "execution_count": 8,
      "metadata": {
        "colab": {
          "base_uri": "https://localhost:8080/",
          "height": 125
        },
        "id": "gpLYV_TlosYj",
        "outputId": "5c76a549-75cf-41c9-9eff-2e9e1f7ebb8d"
      },
      "outputs": [
        {
          "data": {
            "text/html": [
              "<div>\n",
              "<style scoped>\n",
              "    .dataframe tbody tr th:only-of-type {\n",
              "        vertical-align: middle;\n",
              "    }\n",
              "\n",
              "    .dataframe tbody tr th {\n",
              "        vertical-align: top;\n",
              "    }\n",
              "\n",
              "    .dataframe thead th {\n",
              "        text-align: right;\n",
              "    }\n",
              "</style>\n",
              "<table border=\"1\" class=\"dataframe\">\n",
              "  <thead>\n",
              "    <tr style=\"text-align: right;\">\n",
              "      <th></th>\n",
              "      <th>0</th>\n",
              "      <th>1</th>\n",
              "      <th>2</th>\n",
              "      <th>3</th>\n",
              "      <th>4</th>\n",
              "      <th>5</th>\n",
              "      <th>6</th>\n",
              "      <th>7</th>\n",
              "      <th>8</th>\n",
              "      <th>9</th>\n",
              "      <th>10</th>\n",
              "      <th>11</th>\n",
              "    </tr>\n",
              "  </thead>\n",
              "  <tbody>\n",
              "    <tr>\n",
              "      <th>0</th>\n",
              "      <td>BEL</td>\n",
              "      <td>BRA</td>\n",
              "      <td>CHI</td>\n",
              "      <td>CUB</td>\n",
              "      <td>EGY</td>\n",
              "      <td>FRA</td>\n",
              "      <td>IND</td>\n",
              "      <td>ISR</td>\n",
              "      <td>USA</td>\n",
              "      <td>USS</td>\n",
              "      <td>YUG</td>\n",
              "      <td>ZAI</td>\n",
              "    </tr>\n",
              "    <tr>\n",
              "      <th>1</th>\n",
              "      <td>1</td>\n",
              "      <td>2</td>\n",
              "      <td>0</td>\n",
              "      <td>0</td>\n",
              "      <td>1</td>\n",
              "      <td>1</td>\n",
              "      <td>2</td>\n",
              "      <td>1</td>\n",
              "      <td>1</td>\n",
              "      <td>0</td>\n",
              "      <td>0</td>\n",
              "      <td>2</td>\n",
              "    </tr>\n",
              "  </tbody>\n",
              "</table>\n",
              "</div>"
            ],
            "text/plain": [
              "    0    1    2    3    4    5    6    7    8    9    10   11\n",
              "0  BEL  BRA  CHI  CUB  EGY  FRA  IND  ISR  USA  USS  YUG  ZAI\n",
              "1    1    2    0    0    1    1    2    1    1    0    0    2"
            ]
          },
          "execution_count": 8,
          "metadata": {},
          "output_type": "execute_result"
        }
      ],
      "source": [
        "country_clust = pd.DataFrame([data.columns.values, kmedoids.labels_])\n",
        "country_clust"
      ]
    },
    {
      "cell_type": "markdown",
      "metadata": {},
      "source": [
        "# MDS"
      ]
    },
    {
      "cell_type": "code",
      "execution_count": 9,
      "metadata": {},
      "outputs": [],
      "source": [
        "from sklearn.manifold import MDS\n",
        "import matplotlib.pyplot as plt"
      ]
    },
    {
      "cell_type": "code",
      "execution_count": 10,
      "metadata": {},
      "outputs": [
        {
          "name": "stderr",
          "output_type": "stream",
          "text": [
            "/Users/rmartin0/miniconda3/envs/agile/lib/python3.11/site-packages/sklearn/manifold/_mds.py:298: FutureWarning: The default value of `normalized_stress` will change to `'auto'` in version 1.4. To suppress this warning, manually set the value of `normalized_stress`.\n",
            "  warnings.warn(\n"
          ]
        }
      ],
      "source": [
        "mds = MDS(n_components=2, dissimilarity='precomputed', random_state=123)\n",
        "X = mds.fit_transform(D)"
      ]
    },
    {
      "cell_type": "code",
      "execution_count": 12,
      "metadata": {},
      "outputs": [
        {
          "data": {
            "image/png": "[encoded data removed]",
            "text/plain": [
              "<Figure size 640x480 with 1 Axes>"
            ]
          },
          "metadata": {},
          "output_type": "display_data"
        }
      ],
      "source": [
        "scatter = plt.scatter(X[:,0], X[:,1], c=kmedoids.labels_)\n",
        "for i, country in enumerate(data.columns.values):\n",
        "    plt.annotate(country, (X[i,0], X[i,1]), fontsize=9)\n",
        "\n",
        "plt.title('MDS of Countries Clustering')\n",
        "plt.xlabel('MDS dim 1')\n",
        "plt.ylabel('MDS dim 2')\n",
        "plt.show()"
      ]
    }
  ],
  "metadata": {
    "colab": {
      "provenance": []
    },
    "kernelspec": {
      "display_name": "Python 3",
      "name": "python3"
    },
    "language_info": {
      "codemirror_mode": {
        "name": "ipython",
        "version": 3
      },
      "file_extension": ".py",
      "mimetype": "text/x-python",
      "name": "python",
      "nbconvert_exporter": "python",
      "pygments_lexer": "ipython3",
      "version": "3.11.7"
    }
  },
  "nbformat": 4,
  "nbformat_minor": 0
}
